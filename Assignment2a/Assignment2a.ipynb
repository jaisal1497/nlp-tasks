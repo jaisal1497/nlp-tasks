{
  "cells": [
    {
      "cell_type": "markdown",
      "id": "69d9f01e",
      "metadata": {
        "deletable": false,
        "editable": false,
        "nbgrader": {
          "cell_type": "markdown",
          "checksum": "78c4d45d1f56d116ef9ef6a4e0a1f0e7",
          "grade": false,
          "grade_id": "cell-4dad29f85abd546f",
          "locked": true,
          "schema_version": 3,
          "solution": false,
          "task": false
        },
        "id": "69d9f01e"
      },
      "source": [
        "# Assignment 2a: Language Modelling via N-grams (5 Marks)\n",
        "\n",
        "## Due: March 17, 2022\n",
        "\n",
        "Welcome to the first part of Assignment 2. In this assignment you will implement N-gram language models as discussed in lecture 3 and 4 of the course. We will be working with the [WikiText-2 dataset](https://paperswithcode.com/dataset/wikitext-2) which consists of about 100 million tokens collected from Good and Featured articles from wikipedia."
      ]
    },
    {
      "cell_type": "code",
      "execution_count": null,
      "id": "b3d07e98",
      "metadata": {
        "colab": {
          "base_uri": "https://localhost:8080/"
        },
        "id": "b3d07e98",
        "outputId": "496e7f59-6ee5-49af-82be-88a28dd9a561"
      },
      "outputs": [
        {
          "output_type": "stream",
          "name": "stdout",
          "text": [
            "Mounted at /content/gdrive\n"
          ]
        }
      ],
      "source": [
        "try:\n",
        "    from google.colab import drive\n",
        "    drive.mount('/content/gdrive')\n",
        "    data_dir = \"gdrive/MyDrive/PlakshaNLP/Assignment2a/data/wikitext-2\"\n",
        "except:\n",
        "    data_dir = \"/datadrive/t-kabir/work/repos/PlakshaNLP/source/Assignment2a/data/wikitext-2/\""
      ]
    },
    {
      "cell_type": "code",
      "execution_count": null,
      "id": "178e3820",
      "metadata": {
        "deletable": false,
        "editable": false,
        "nbgrader": {
          "cell_type": "code",
          "checksum": "208a3686cd75f206390a99b912d7d829",
          "grade": false,
          "grade_id": "cell-21f93cdd721bf4ba",
          "locked": true,
          "schema_version": 3,
          "solution": false,
          "task": false
        },
        "colab": {
          "base_uri": "https://localhost:8080/"
        },
        "id": "178e3820",
        "outputId": "75519b90-9adb-452a-ccff-be5117ce97dd"
      },
      "outputs": [
        {
          "output_type": "stream",
          "name": "stdout",
          "text": [
            "Requirement already satisfied: numpy in /usr/local/lib/python3.7/dist-packages (1.21.5)\n",
            "Requirement already satisfied: pandas in /usr/local/lib/python3.7/dist-packages (1.3.5)\n",
            "Requirement already satisfied: pytz>=2017.3 in /usr/local/lib/python3.7/dist-packages (from pandas) (2018.9)\n",
            "Requirement already satisfied: python-dateutil>=2.7.3 in /usr/local/lib/python3.7/dist-packages (from pandas) (2.8.2)\n",
            "Requirement already satisfied: numpy>=1.17.3 in /usr/local/lib/python3.7/dist-packages (from pandas) (1.21.5)\n",
            "Requirement already satisfied: six>=1.5 in /usr/local/lib/python3.7/dist-packages (from python-dateutil>=2.7.3->pandas) (1.15.0)\n",
            "Requirement already satisfied: nltk in /usr/local/lib/python3.7/dist-packages (3.2.5)\n",
            "Requirement already satisfied: six in /usr/local/lib/python3.7/dist-packages (from nltk) (1.15.0)\n"
          ]
        }
      ],
      "source": [
        "# Install required libraries\n",
        "!pip install numpy\n",
        "!pip install pandas\n",
        "!pip install nltk"
      ]
    },
    {
      "cell_type": "code",
      "execution_count": null,
      "id": "b36ca8cc",
      "metadata": {
        "deletable": false,
        "editable": false,
        "nbgrader": {
          "cell_type": "code",
          "checksum": "e1570ffda89cc3709398a7df2272bd72",
          "grade": false,
          "grade_id": "cell-5279dd8d57f286fd",
          "locked": true,
          "schema_version": 3,
          "solution": false,
          "task": false
        },
        "colab": {
          "base_uri": "https://localhost:8080/"
        },
        "id": "b36ca8cc",
        "outputId": "315c9452-3592-4bc2-a10e-0f6bc69d1cce"
      },
      "outputs": [
        {
          "output_type": "stream",
          "name": "stdout",
          "text": [
            "[nltk_data] Downloading package punkt to /root/nltk_data...\n",
            "[nltk_data]   Unzipping tokenizers/punkt.zip.\n",
            "[nltk_data] Downloading package stopwords to /root/nltk_data...\n",
            "[nltk_data]   Unzipping corpora/stopwords.zip.\n"
          ]
        },
        {
          "output_type": "execute_result",
          "data": {
            "text/plain": [
              "True"
            ]
          },
          "metadata": {},
          "execution_count": 4
        }
      ],
      "source": [
        "# We start by importing libraries that we will be making use of in the assignment.\n",
        "import string\n",
        "from collections import defaultdict\n",
        "import numpy as np\n",
        "import pandas as pd\n",
        "import nltk\n",
        "nltk.download(\"punkt\")\n",
        "nltk.download('stopwords')"
      ]
    },
    {
      "cell_type": "markdown",
      "id": "0a28b578",
      "metadata": {
        "deletable": false,
        "editable": false,
        "nbgrader": {
          "cell_type": "markdown",
          "checksum": "1555fb9d5057e572d16bc628a97cd370",
          "grade": false,
          "grade_id": "cell-cf1fc2b2db15dff0",
          "locked": true,
          "schema_version": 3,
          "solution": false,
          "task": false
        },
        "id": "0a28b578"
      },
      "source": [
        "We start by loading Wiki-Text dataset into memory. It consists of 3 text files one each for train, validation and test, consisting raw text data corresponding to different wikipedia articles."
      ]
    },
    {
      "cell_type": "code",
      "execution_count": null,
      "id": "b5005fc6",
      "metadata": {
        "deletable": false,
        "editable": false,
        "nbgrader": {
          "cell_type": "code",
          "checksum": "0a348a0412559dcb0d1f176e9e25e387",
          "grade": false,
          "grade_id": "cell-43171f704b366858",
          "locked": true,
          "schema_version": 3,
          "solution": false,
          "task": false
        },
        "colab": {
          "base_uri": "https://localhost:8080/"
        },
        "id": "b5005fc6",
        "outputId": "42bef7a2-1525-4002-b308-1ad51c539c38"
      },
      "outputs": [
        {
          "output_type": "stream",
          "name": "stdout",
          "text": [
            "Datasets Loaded!\n",
            "Number of characters in train corpus: 10780437\n",
            "Number of characters in validation corpus: 1120192\n",
            "Number of characters in test corpus: 1255018\n"
          ]
        }
      ],
      "source": [
        "# Load train data\n",
        "with open(f\"{data_dir}/wiki.train.tokens\") as f:\n",
        "    wiki_train = f.read()\n",
        "\n",
        "# Load validation data\n",
        "with open(f\"{data_dir}/wiki.valid.tokens\") as f:\n",
        "    wiki_valid = f.read()\n",
        "\n",
        "# Load Test data\n",
        "with open(f\"{data_dir}/wiki.test.tokens\") as f:\n",
        "    wiki_test = f.read()\n",
        "    \n",
        "print(f\"Datasets Loaded!\")\n",
        "print(f\"Number of characters in train corpus: {len(wiki_train)}\")\n",
        "print(f\"Number of characters in validation corpus: {len(wiki_valid)}\")\n",
        "print(f\"Number of characters in test corpus: {len(wiki_test)}\")"
      ]
    },
    {
      "cell_type": "code",
      "execution_count": null,
      "id": "83462af5",
      "metadata": {
        "deletable": false,
        "editable": false,
        "nbgrader": {
          "cell_type": "code",
          "checksum": "8f6ad0493e137468e30f2c2c74258e05",
          "grade": false,
          "grade_id": "cell-8e48dba7173b8e38",
          "locked": true,
          "schema_version": 3,
          "solution": false,
          "task": false
        },
        "colab": {
          "base_uri": "https://localhost:8080/",
          "height": 36
        },
        "id": "83462af5",
        "outputId": "abfea5f4-6959-4627-cf76-c815c40c5cab"
      },
      "outputs": [
        {
          "output_type": "execute_result",
          "data": {
            "text/plain": [
              "' \\n = Valkyria Chronicles III = \\n \\n Senjō no Valkyria 3 : <unk> Chronicles ( Japanese : 戦場のヴァルキュリア3 ,'"
            ],
            "application/vnd.google.colaboratory.intrinsic+json": {
              "type": "string"
            }
          },
          "metadata": {},
          "execution_count": 6
        }
      ],
      "source": [
        "# Lets print first 100 characters of the train_corpus\n",
        "wiki_train[:100]"
      ]
    },
    {
      "cell_type": "markdown",
      "id": "f67af028",
      "metadata": {
        "deletable": false,
        "editable": false,
        "nbgrader": {
          "cell_type": "markdown",
          "checksum": "1346493e9471b11fe669e297f907dfba",
          "grade": false,
          "grade_id": "cell-d0144eb7bcea588b",
          "locked": true,
          "schema_version": 3,
          "solution": false,
          "task": false
        },
        "id": "f67af028"
      },
      "source": [
        "## Task 1: Fit n-gram probabilities (2 Marks)\n",
        "\n",
        "N-gram language models are trained by estimating the joint and conditional probabilities of all the n-grams from the training corpus. Using these probabilities we can then sample next sequence of tokens given the context or compute the probability of a complete piece of text."
      ]
    },
    {
      "cell_type": "markdown",
      "id": "3a084a19",
      "metadata": {
        "deletable": false,
        "editable": false,
        "nbgrader": {
          "cell_type": "markdown",
          "checksum": "f00167d218520c4c12feeb5b1302d17b",
          "grade": false,
          "grade_id": "cell-b81f32aabd61b562",
          "locked": true,
          "schema_version": 3,
          "solution": false,
          "task": false
        },
        "id": "3a084a19"
      },
      "source": [
        "### Task 1.1: Unigram Probabilities (0.75 Mark)\n",
        "\n",
        "We will start by estimating unigram probabilities from the corpus, which can be simply done by calculating the normalized frequency of each token in the corpus. Implement the `get_unigram_probs` function below that does that"
      ]
    },
    {
      "cell_type": "code",
      "execution_count": null,
      "id": "155ef81c",
      "metadata": {
        "deletable": false,
        "nbgrader": {
          "cell_type": "code",
          "checksum": "16977f9ce3a0d0fcc89d5144a68d2c8a",
          "grade": false,
          "grade_id": "cell-9894d67d3e54861b",
          "locked": false,
          "schema_version": 3,
          "solution": true,
          "task": false
        },
        "id": "155ef81c"
      },
      "outputs": [],
      "source": [
        "from collections import Counter\n",
        "def get_unigram_probs(corpus):\n",
        "    \"\"\"\n",
        "    Estimates the probability of each unigram in the text by calculating\n",
        "    normalized frequency of each unigram (word).\n",
        "    \n",
        "    Inputs:\n",
        "        - corpus (str): A python string consisting of a piece of text\n",
        "    \n",
        "    Returns:\n",
        "        - unigram_probs (dict): A python dictionary with unigrams (words) as keys and \n",
        "                                their frequencies as values\n",
        "                                \n",
        "    Example Input: \"I am Sam . Sam I am . I do not like green eggs and ham .\"\n",
        "    Expected Output: {'I': 0.17647058823529413,\n",
        "             'am': 0.11764705882352941,\n",
        "             'Sam': 0.11764705882352941,\n",
        "             '.': 0.17647058823529413,\n",
        "             'do': 0.058823529411764705,\n",
        "             'not': 0.058823529411764705,\n",
        "             'like': 0.058823529411764705,\n",
        "             'green': 0.058823529411764705,\n",
        "             'eggs': 0.058823529411764705,\n",
        "             'and': 0.058823529411764705,\n",
        "             'ham': 0.058823529411764705}\n",
        "    \n",
        "    Note: To break the text into tokens you can just use corpus.split() this time,\n",
        "    Wiki corpus is already tokenized so just using split() will also work fine.\n",
        "    **Do not use `nltk.tokenize.word_tokenize` here**\n",
        "\n",
        "    Hint: `defaultdict` can often make life easier in such type of problems.\n",
        "            https://docs.python.org/3/library/collections.html#collections.defaultdict\n",
        "    \"\"\"\n",
        "    \n",
        "    unigram_probs = {}\n",
        "    \n",
        "    # YOUR CODE HERE\n",
        "    unigram_probs = defaultdict(lambda: defaultdict(lambda: 0))\n",
        "    words=corpus.split()\n",
        "    \n",
        "    c=Counter(words)\n",
        "\n",
        "    for i in words:\n",
        "      unigram_probs[i]=c.get(i)/len(words)\n",
        "    #raise NotImplementedError()\n",
        "    #print(unigram_probs)    \n",
        "    return unigram_probs"
      ]
    },
    {
      "cell_type": "code",
      "execution_count": null,
      "id": "b72ac9b0",
      "metadata": {
        "deletable": false,
        "editable": false,
        "nbgrader": {
          "cell_type": "code",
          "checksum": "f4e5be8dfec5715e4b53b64a2f877067",
          "grade": true,
          "grade_id": "cell-46656780cd552710",
          "locked": true,
          "points": 0.75,
          "schema_version": 3,
          "solution": false,
          "task": false
        },
        "colab": {
          "base_uri": "https://localhost:8080/"
        },
        "id": "b72ac9b0",
        "outputId": "f7d9d068-2e8f-4974-8016-0cf10abe396c"
      },
      "outputs": [
        {
          "output_type": "stream",
          "name": "stdout",
          "text": [
            "Running Sample Test Case 1\n",
            "Input Corpus: I am Sam . Sam I am . I do not like green eggs and ham .\n",
            "Unigram Probabilities: defaultdict(<function get_unigram_probs.<locals>.<lambda> at 0x7f6197c66f80>, {'I': 0.17647058823529413, 'am': 0.11764705882352941, 'Sam': 0.11764705882352941, '.': 0.17647058823529413, 'do': 0.058823529411764705, 'not': 0.058823529411764705, 'like': 0.058823529411764705, 'green': 0.058823529411764705, 'eggs': 0.058823529411764705, 'and': 0.058823529411764705, 'ham': 0.058823529411764705})\n",
            "Expected Unigram Probabilities: defaultdict(<function get_unigram_probs.<locals>.<lambda> at 0x7f6197c66f80>, {'I': 0.17647058823529413, 'am': 0.11764705882352941, 'Sam': 0.11764705882352941, '.': 0.17647058823529413, 'do': 0.058823529411764705, 'not': 0.058823529411764705, 'like': 0.058823529411764705, 'green': 0.058823529411764705, 'eggs': 0.058823529411764705, 'and': 0.058823529411764705, 'ham': 0.058823529411764705})\n",
            "Sample Test Case Passed\n",
            "****************************************\n",
            "\n",
            "Running Sample Test Case 2\n",
            "Input Corpus: john likes to watch movies mary likes movies too mary also likes to watch football games\n",
            "Unigram Probabilities: defaultdict(<function get_unigram_probs.<locals>.<lambda> at 0x7f6197c825f0>, {'john': 0.0625, 'likes': 0.1875, 'to': 0.125, 'watch': 0.125, 'movies': 0.125, 'mary': 0.125, 'too': 0.0625, 'also': 0.0625, 'football': 0.0625, 'games': 0.0625})\n",
            "Expected Unigram Probabilities: {'john': 0.0625, 'likes': 0.1875, 'to': 0.125, 'watch': 0.125, 'movies': 0.125, 'mary': 0.125, 'too': 0.0625, 'also': 0.0625, 'football': 0.0625, 'games': 0.0625}\n",
            "Sample Test Case Passed\n",
            "****************************************\n",
            "\n"
          ]
        }
      ],
      "source": [
        "def check_dicts_same(dict1, dict2):\n",
        "    if not (isinstance(dict1, dict) or isinstance(dict1, defaultdict)):\n",
        "        print(\"Your function output is not a dictionary!\")\n",
        "        return False\n",
        "    if len(dict1) != len(dict2):\n",
        "        return False\n",
        "    \n",
        "    for key in dict1:\n",
        "        val1 = dict1[key]\n",
        "        val2 = dict2[key]\n",
        "        if isinstance(val1, float) and isinstance(val2, float):\n",
        "            if not np.allclose(val1, val2, 1e-4):\n",
        "                return False\n",
        "        if val1 != val2:\n",
        "            return False\n",
        "    \n",
        "    return True\n",
        "\n",
        "print(\"Running Sample Test Case 1\")\n",
        "sample_corpus = 'I am Sam . Sam I am . I do not like green eggs and ham .'\n",
        "exp_unigram_probs = {'I': 0.17647058823529413,\n",
        "             'am': 0.11764705882352941,\n",
        "             'Sam': 0.11764705882352941,\n",
        "             '.': 0.17647058823529413,\n",
        "             'do': 0.058823529411764705,\n",
        "             'not': 0.058823529411764705,\n",
        "             'like': 0.058823529411764705,\n",
        "             'green': 0.058823529411764705,\n",
        "             'eggs': 0.058823529411764705,\n",
        "             'and': 0.058823529411764705,\n",
        "             'ham': 0.058823529411764705}\n",
        "\n",
        "output_unigram_probs = get_unigram_probs(sample_corpus)\n",
        "print(f\"Input Corpus: {sample_corpus}\")\n",
        "print(f\"Unigram Probabilities: {output_unigram_probs}\")\n",
        "print(f\"Expected Unigram Probabilities: {output_unigram_probs}\")\n",
        "\n",
        "assert check_dicts_same(exp_unigram_probs, output_unigram_probs)\n",
        "print(\"Sample Test Case Passed\")\n",
        "print(\"****************************************\\n\")\n",
        "    \n",
        "print(\"Running Sample Test Case 2\")\n",
        "sample_corpus = 'john likes to watch movies mary likes movies too mary also likes to watch football games'\n",
        "exp_unigram_probs = {'john': 0.0625,\n",
        "                     'likes': 0.1875,\n",
        "                     'to': 0.125,\n",
        "                     'watch': 0.125,\n",
        "                     'movies': 0.125,\n",
        "                     'mary': 0.125,\n",
        "                     'too': 0.0625,\n",
        "                     'also': 0.0625,\n",
        "                     'football': 0.0625,\n",
        "                     'games': 0.0625}\n",
        "\n",
        "output_unigram_probs = get_unigram_probs(sample_corpus)\n",
        "print(f\"Input Corpus: {sample_corpus}\")\n",
        "print(f\"Unigram Probabilities: {output_unigram_probs}\")\n",
        "print(f\"Expected Unigram Probabilities: {exp_unigram_probs}\")\n",
        "\n",
        "assert check_dicts_same(output_unigram_probs, exp_unigram_probs)\n",
        "print(\"Sample Test Case Passed\")\n",
        "print(\"****************************************\\n\")\n"
      ]
    },
    {
      "cell_type": "markdown",
      "id": "ca70a674",
      "metadata": {
        "deletable": false,
        "editable": false,
        "nbgrader": {
          "cell_type": "markdown",
          "checksum": "58e3c6b8f1ccd263ddc4b898c937f964",
          "grade": false,
          "grade_id": "cell-cad2c95328fb6979",
          "locked": true,
          "schema_version": 3,
          "solution": false,
          "task": false
        },
        "id": "ca70a674"
      },
      "source": [
        "Let's get the unigram probabilities from the entire training corpus now"
      ]
    },
    {
      "cell_type": "code",
      "execution_count": null,
      "id": "36aadd91",
      "metadata": {
        "deletable": false,
        "editable": false,
        "nbgrader": {
          "cell_type": "code",
          "checksum": "347a78332953ce36c99023b81435c6f7",
          "grade": false,
          "grade_id": "cell-10bd3b75407498ee",
          "locked": true,
          "schema_version": 3,
          "solution": false,
          "task": false
        },
        "id": "36aadd91"
      },
      "outputs": [],
      "source": [
        "train_unigram_probs = get_unigram_probs(wiki_train)"
      ]
    },
    {
      "cell_type": "code",
      "source": [
        "print(train_unigram_probs.get('Valkyria'))"
      ],
      "metadata": {
        "colab": {
          "base_uri": "https://localhost:8080/"
        },
        "id": "vieyVEtOpZVM",
        "outputId": "d13bfe61-8fa9-43ce-aded-d38cdc31a00f"
      },
      "id": "vieyVEtOpZVM",
      "execution_count": null,
      "outputs": [
        {
          "output_type": "stream",
          "name": "stdout",
          "text": [
            "2.6316943725602e-05\n"
          ]
        }
      ]
    },
    {
      "cell_type": "markdown",
      "id": "afd9cc79",
      "metadata": {
        "deletable": false,
        "editable": false,
        "nbgrader": {
          "cell_type": "markdown",
          "checksum": "a4a9a5cb0b8fa6d6be678916a13b44e9",
          "grade": false,
          "grade_id": "cell-e882c4441289799e",
          "locked": true,
          "schema_version": 3,
          "solution": false,
          "task": false
        },
        "id": "afd9cc79"
      },
      "source": [
        "### Task 1.2: N-gram Probabilities (1.25 Marks)\n",
        "\n",
        "Now let's estimate the probabilities for N-grams with N > 1. For N-grams instead of storing joint probability of each N-gram in the corpus i.e. p(w_n-N+1, ...,w_n-1, w_n) we store conditional probabilities p(w_n | w_n-N+1, ...,w_n-1), which can be calculated easily by using the following formula:\n",
        "\n",
        "<img src=\"https://i.ibb.co/mtFcBfh/n-gram.jpg\" alt=\"n-gram\" border=\"0\">\n",
        "\n",
        "Here the term in numerator denotes the number of N-grams with the words w_n-N+1, ...,w_n-1, w_n and the term in denominator denotes the number of (N-1) grams with the words w_n-N+1, ...,w_n-1 .\n",
        "\n",
        "Implement the `get_ngram_cond_probs` function below"
      ]
    },
    {
      "cell_type": "code",
      "execution_count": null,
      "id": "678d7d85",
      "metadata": {
        "deletable": false,
        "nbgrader": {
          "cell_type": "code",
          "checksum": "08f54f5cab96950494180af8cf9a469b",
          "grade": false,
          "grade_id": "cell-d2dd7df0fa9339e9",
          "locked": false,
          "schema_version": 3,
          "solution": true,
          "task": false
        },
        "id": "678d7d85"
      },
      "outputs": [],
      "source": [
        "def get_ngram_cond_probs(corpus, N = 2):\n",
        "    \"\"\"\n",
        "    Estimates the N-gram conditional probabilities from the corpus.\n",
        "    \n",
        "    Inputs:\n",
        "        - corpus (str): A python string consisting of a piece of text\n",
        "        - N (int) : Value of  N in N-gram\n",
        "        \n",
        "    Returns:\n",
        "        - ngram_cond_probs (dict) : A dictionary with (N-1)-gram tuple as keys and values as dictionaries\n",
        "                                    such that ngram_cond_probs[(w_n-N+1, ...,w_n-1)][w_n]\n",
        "                                    stores the conditional probability p(w_n | w_n-N+1, ...,w_n-1)\n",
        "                                    See the examples below for clarity\n",
        "                                    \n",
        "    Example Input: corpus = 'I am Sam . Sam I am .', N = 2\n",
        "    Expected Output: \n",
        "    {\n",
        "         ('I',): {'am': 1.0},\n",
        "         ('am',): {'Sam': 0.5, '.': 0.5},\n",
        "         ('Sam',): {'.': 0.5, 'I': 0.5},\n",
        "         ('.',): {'Sam': 1.0}\n",
        " \n",
        "     }\n",
        "     Explanation: 'I' is always followed 'am' in the `corpus`, while 'am' is followed by 'Sam' once and '.' the other time\n",
        "                     hence you see 0.5, 0.5 probabilities for these two tokens.\n",
        "     \n",
        "    Example Input: corpus = 'I am Sam . Sam I am .', N = 3\n",
        "    Expected Output:\n",
        "    {\n",
        "         ('I', 'am'): {'Sam': 0.5, '.': 0.5},\n",
        "         ('am', 'Sam'): {'.': 1.0},\n",
        "         ('Sam', '.'): {'Sam': 1.0},\n",
        "         ('.', 'Sam'): {'I': 1.0},\n",
        "         ('Sam', 'I'): {'am': 1.0}\n",
        "     }\n",
        " \n",
        "    \"\"\"\n",
        "\n",
        "    \n",
        "    ngram_cond_probs = {}\n",
        "    \n",
        "    # YOUR CODE HERE\n",
        "    words=corpus.split()\n",
        "    ngrams=[]\n",
        "    #ngramsCountNext={}\n",
        "    \n",
        "    ngramsCountNext = defaultdict(lambda: defaultdict(lambda: 0))\n",
        "    #print(words)\n",
        "    for i in range(len(words)):\n",
        "      if (i<len(words)-N+1):\n",
        "        ngrams.append(words[i:i+N-1])\n",
        "        if (tuple(words[i:i+N-1])) in ngramsCountNext:\n",
        "          ngramsCountNext[tuple(words[i:i+N-1])][words[i+N-1]]+=1\n",
        "          #print(tuple(words[i:i+N-1]))\n",
        "        #ngramsCountNext[tuple(words[i:i+N-1])][words[i+N-1]]+=1\n",
        "        else:\n",
        "          ngramsCountNext[tuple(words[i:i+N-1])][words[i+N-1]]=1\n",
        "        #ngramsCountNext[tuple(words[i:i+N-1])][words[i+N-1]]=1\n",
        "\n",
        "    #print(ngrams)\n",
        "    #print(ngramsCountNext)              \n",
        "\n",
        "    #ngram_cond_probs = {}\n",
        "    for seq in ngramsCountNext:\n",
        "      total_count = sum(ngramsCountNext[seq].values())\n",
        "      #print(seq,total_count)\n",
        "      for next in ngramsCountNext[seq]:\n",
        "        #print(next)\n",
        "        ngramsCountNext[seq][next] = ngramsCountNext[seq][next]/total_count\n",
        "    #raise NotImplementedError()'''\n",
        "    print(ngramsCountNext.get('resulting',))\n",
        "    return (dict(ngramsCountNext))"
      ]
    },
    {
      "cell_type": "code",
      "source": [
        ""
      ],
      "metadata": {
        "id": "I0_suxtvfH6I"
      },
      "id": "I0_suxtvfH6I",
      "execution_count": null,
      "outputs": []
    },
    {
      "cell_type": "code",
      "execution_count": null,
      "id": "61e92fd9",
      "metadata": {
        "deletable": false,
        "editable": false,
        "nbgrader": {
          "cell_type": "code",
          "checksum": "40ad85b65a1e0802cdc32f70411080a2",
          "grade": true,
          "grade_id": "cell-50b5e23ba10e4996",
          "locked": true,
          "points": 1.25,
          "schema_version": 3,
          "solution": false,
          "task": false
        },
        "colab": {
          "base_uri": "https://localhost:8080/"
        },
        "id": "61e92fd9",
        "outputId": "b240e13e-04de-41ba-f0ee-dba141bb5217"
      },
      "outputs": [
        {
          "output_type": "stream",
          "name": "stdout",
          "text": [
            "Running Sample Test Case 1\n",
            "None\n",
            "Input Corpus: I am Sam . Sam I am ., N = 2\n",
            "N-gram Probabilities: {('I',): defaultdict(<function get_ngram_cond_probs.<locals>.<lambda>.<locals>.<lambda> at 0x7f6197c82680>, {'am': 1.0}), ('am',): defaultdict(<function get_ngram_cond_probs.<locals>.<lambda>.<locals>.<lambda> at 0x7f6197c829e0>, {'Sam': 0.5, '.': 0.5}), ('Sam',): defaultdict(<function get_ngram_cond_probs.<locals>.<lambda>.<locals>.<lambda> at 0x7f6197c82440>, {'.': 0.5, 'I': 0.5}), ('.',): defaultdict(<function get_ngram_cond_probs.<locals>.<lambda>.<locals>.<lambda> at 0x7f6197c82f80>, {'Sam': 1.0})}\n",
            "Expected N-gram Probabilities: {('I',): {'am': 1.0}, ('am',): {'Sam': 0.5, '.': 0.5}, ('Sam',): {'.': 0.5, 'I': 0.5}, ('.',): {'Sam': 1.0}}\n",
            "defaultdict(<function get_ngram_cond_probs.<locals>.<lambda>.<locals>.<lambda> at 0x7f6197c82440>, {'.': 0.5, 'I': 0.5})\n",
            "Sample Test Case Passed\n",
            "****************************************\n",
            "\n",
            "Running Sample Test Case 2\n",
            "None\n",
            "Input Corpus: I am Sam . Sam I am ., N = 3\n",
            "N-gram Probabilities: {('I', 'am'): defaultdict(<function get_ngram_cond_probs.<locals>.<lambda>.<locals>.<lambda> at 0x7f6197991560>, {'Sam': 0.5, '.': 0.5}), ('am', 'Sam'): defaultdict(<function get_ngram_cond_probs.<locals>.<lambda>.<locals>.<lambda> at 0x7f61979915f0>, {'.': 1.0}), ('Sam', '.'): defaultdict(<function get_ngram_cond_probs.<locals>.<lambda>.<locals>.<lambda> at 0x7f6197991680>, {'Sam': 1.0}), ('.', 'Sam'): defaultdict(<function get_ngram_cond_probs.<locals>.<lambda>.<locals>.<lambda> at 0x7f6197991710>, {'I': 1.0}), ('Sam', 'I'): defaultdict(<function get_ngram_cond_probs.<locals>.<lambda>.<locals>.<lambda> at 0x7f61979917a0>, {'am': 1.0})}\n",
            "Expected N-gram Probabilities: {('I', 'am'): {'Sam': 0.5, '.': 0.5}, ('am', 'Sam'): {'.': 1.0}, ('Sam', '.'): {'Sam': 1.0}, ('.', 'Sam'): {'I': 1.0}, ('Sam', 'I'): {'am': 1.0}}\n",
            "Sample Test Case Passed\n",
            "****************************************\n",
            "\n",
            "Running Sample Test Case 3\n",
            "None\n",
            "Input Corpus: I am Sam . Sam I am ., N = 4\n",
            "N-gram Probabilities: {('I', 'am', 'Sam'): defaultdict(<function get_ngram_cond_probs.<locals>.<lambda>.<locals>.<lambda> at 0x7f6197c82680>, {'.': 1.0}), ('am', 'Sam', '.'): defaultdict(<function get_ngram_cond_probs.<locals>.<lambda>.<locals>.<lambda> at 0x7f61979918c0>, {'Sam': 1.0}), ('Sam', '.', 'Sam'): defaultdict(<function get_ngram_cond_probs.<locals>.<lambda>.<locals>.<lambda> at 0x7f6197991830>, {'I': 1.0}), ('.', 'Sam', 'I'): defaultdict(<function get_ngram_cond_probs.<locals>.<lambda>.<locals>.<lambda> at 0x7f6197991440>, {'am': 1.0}), ('Sam', 'I', 'am'): defaultdict(<function get_ngram_cond_probs.<locals>.<lambda>.<locals>.<lambda> at 0x7f6197991290>, {'.': 1.0})}\n",
            "Expected N-gram Probabilities: {('I', 'am', 'Sam'): {'.': 1.0}, ('am', 'Sam', '.'): {'Sam': 1.0}, ('Sam', '.', 'Sam'): {'I': 1.0}, ('.', 'Sam', 'I'): {'am': 1.0}, ('Sam', 'I', 'am'): {'.': 1.0}}\n",
            "Sample Test Case Passed\n",
            "****************************************\n",
            "\n"
          ]
        }
      ],
      "source": [
        "def check_dicts_same_v2(dict1, dict2):\n",
        "    if not (isinstance(dict1, dict) or isinstance(dict1, defaultdict)):\n",
        "        print(\"Your function output is not a dictionary!\")\n",
        "        return False\n",
        "    \n",
        "    if len(dict1) != len(dict2):\n",
        "        return False\n",
        "        \n",
        "    for key in dict1:\n",
        "        val1 = dict1[key]\n",
        "        val2 = dict2[key]\n",
        "        if isinstance(val1, float) and isinstance(val2, float):\n",
        "            if not np.allclose(val1, val2, 1e-4):\n",
        "                return False\n",
        "        if (isinstance(val1, dict) or isinstance(val1, defaultdict)) \\\n",
        "            and (isinstance(val2, dict) or isinstance(val2, defaultdict)):\n",
        "            if not check_dicts_same_v2(val1, val2):\n",
        "                return False\n",
        "        if val1 != val2:\n",
        "            return False\n",
        "    \n",
        "    return True\n",
        "\n",
        "print(\"Running Sample Test Case 1\")\n",
        "sample_corpus = 'I am Sam . Sam I am .'\n",
        "N = 2\n",
        "exp_ngram_probs =     {\n",
        "         ('I',): {'am': 1.0},\n",
        "         ('am',): {'Sam': 0.5, '.': 0.5},\n",
        "         ('Sam',): {'.': 0.5, 'I': 0.5},\n",
        "         ('.',): {'Sam': 1.0}\n",
        "     }\n",
        "\n",
        "output_ngram_probs = get_ngram_cond_probs(sample_corpus, N = N)\n",
        "print(f\"Input Corpus: {sample_corpus}, N = {N}\")\n",
        "print(f\"N-gram Probabilities: {output_ngram_probs}\")\n",
        "print(f\"Expected N-gram Probabilities: {exp_ngram_probs}\")\n",
        "print(output_ngram_probs.get(('Sam',)))\n",
        "assert check_dicts_same_v2(output_ngram_probs, exp_ngram_probs)\n",
        "print(\"Sample Test Case Passed\")\n",
        "print(\"****************************************\\n\")\n",
        "\n",
        "print(\"Running Sample Test Case 2\")\n",
        "sample_corpus = 'I am Sam . Sam I am .'\n",
        "N = 3\n",
        "exp_ngram_probs =         {\n",
        "         ('I', 'am'): {'Sam': 0.5, '.': 0.5},\n",
        "         ('am', 'Sam'): {'.': 1.0},\n",
        "         ('Sam', '.'): {'Sam': 1.0},\n",
        "         ('.', 'Sam'): {'I': 1.0},\n",
        "         ('Sam', 'I'): {'am': 1.0}\n",
        "     }\n",
        "\n",
        "output_ngram_probs = get_ngram_cond_probs(sample_corpus, N = N)\n",
        "print(f\"Input Corpus: {sample_corpus}, N = {N}\")\n",
        "print(f\"N-gram Probabilities: {output_ngram_probs}\")\n",
        "print(f\"Expected N-gram Probabilities: {exp_ngram_probs}\")\n",
        "\n",
        "assert check_dicts_same_v2(output_ngram_probs, exp_ngram_probs)\n",
        "print(\"Sample Test Case Passed\")\n",
        "print(\"****************************************\\n\")\n",
        "\n",
        "print(\"Running Sample Test Case 3\")\n",
        "sample_corpus = 'I am Sam . Sam I am .'\n",
        "N = 4\n",
        "exp_ngram_probs =  {('I', 'am', 'Sam'): {'.': 1.0},\n",
        "             ('am', 'Sam', '.'): {'Sam': 1.0},\n",
        "             ('Sam', '.', 'Sam'): {'I': 1.0},\n",
        "             ('.', 'Sam', 'I'): {'am': 1.0},\n",
        "             ('Sam', 'I', 'am'): {'.': 1.0}}\n",
        "\n",
        "output_ngram_probs = get_ngram_cond_probs(sample_corpus, N = N)\n",
        "print(f\"Input Corpus: {sample_corpus}, N = {N}\")\n",
        "print(f\"N-gram Probabilities: {output_ngram_probs}\")\n",
        "print(f\"Expected N-gram Probabilities: {exp_ngram_probs}\")\n",
        "\n",
        "assert check_dicts_same_v2(output_ngram_probs, exp_ngram_probs)\n",
        "print(\"Sample Test Case Passed\")\n",
        "print(\"****************************************\\n\")\n"
      ]
    },
    {
      "cell_type": "markdown",
      "id": "e93dc0a9",
      "metadata": {
        "deletable": false,
        "editable": false,
        "nbgrader": {
          "cell_type": "markdown",
          "checksum": "027b0659ee2dc75e70d00cd89cdc3e96",
          "grade": false,
          "grade_id": "cell-0c43ed56dbe13464",
          "locked": true,
          "schema_version": 3,
          "solution": false,
          "task": false
        },
        "id": "e93dc0a9"
      },
      "source": [
        "We can now generate N-gram probability distributions for our dataset"
      ]
    },
    {
      "cell_type": "code",
      "execution_count": null,
      "id": "21a315d3",
      "metadata": {
        "deletable": false,
        "editable": false,
        "nbgrader": {
          "cell_type": "code",
          "checksum": "61b1117df6d92bed9230d11f967a5eaf",
          "grade": false,
          "grade_id": "cell-d817f2a967337003",
          "locked": true,
          "schema_version": 3,
          "solution": false,
          "task": false
        },
        "colab": {
          "base_uri": "https://localhost:8080/"
        },
        "id": "21a315d3",
        "outputId": "2d5ab0bd-5ade-4eac-e486-41cf0e2ccc7a"
      },
      "outputs": [
        {
          "output_type": "stream",
          "name": "stdout",
          "text": [
            "Generating Bigram Distribution\n",
            "None\n",
            "Generating Trigram Distribution\n",
            "None\n",
            "Generating 4-gram Distribution\n",
            "None\n"
          ]
        }
      ],
      "source": [
        "print(\"Generating Bigram Distribution\")\n",
        "bigram_prob_dist = get_ngram_cond_probs(wiki_train, N = 2)\n",
        "\n",
        "print(\"Generating Trigram Distribution\")\n",
        "trigram_prob_dist = get_ngram_cond_probs(wiki_train, N = 3)\n",
        "\n",
        "print(\"Generating 4-gram Distribution\")\n",
        "tetragram_prob_dist = get_ngram_cond_probs(wiki_train, N = 4)"
      ]
    },
    {
      "cell_type": "markdown",
      "id": "6b8f4244",
      "metadata": {
        "deletable": false,
        "editable": false,
        "nbgrader": {
          "cell_type": "markdown",
          "checksum": "787553d25794b79bca8e4544ed445f97",
          "grade": false,
          "grade_id": "cell-2e3e35cb9475d27b",
          "locked": true,
          "schema_version": 3,
          "solution": false,
          "task": false
        },
        "id": "6b8f4244"
      },
      "source": [
        "## Task 2: Evaluating the language models (2.5 Marks)\n",
        "\n",
        "Now that we have generated the N-gram distributions for various Ns we can evaluate the language models both quantitatively using the perplexity metric as well as qualitatively by generating text using these models."
      ]
    },
    {
      "cell_type": "markdown",
      "id": "e53c12d3",
      "metadata": {
        "deletable": false,
        "editable": false,
        "nbgrader": {
          "cell_type": "markdown",
          "checksum": "df3bbf0afd04cd2ceb252099dde2c984",
          "grade": false,
          "grade_id": "cell-85ffb0083a4e789b",
          "locked": true,
          "schema_version": 3,
          "solution": false,
          "task": false
        },
        "id": "e53c12d3"
      },
      "source": [
        "### Task 2.1: Calculating Perplexity (0.5 Marks)\n",
        "\n",
        "As discussed in Lecture 4, perplexity of a probability distribution is defined as:\n",
        "\n",
        "<img src=\"https://i.ibb.co/swXqFCz/Perplexity.jpg\" alt=\"Perplexity\" border=\"0\">\n",
        "\n",
        "For the purposes of this assignment we will only calculate perplexity of a unigram language model. Finding perplexity of N-gram models for N > 1 requires smoothing which is beyond the scope of this assignment, but interested students can read about it [here](https://web.stanford.edu/~jurafsky/slp3/3.pdf). For now, implement the `get_unigram_perplexity` function below"
      ]
    },
    {
      "cell_type": "code",
      "execution_count": null,
      "id": "acc9357e",
      "metadata": {
        "deletable": false,
        "nbgrader": {
          "cell_type": "code",
          "checksum": "e02e9c75a23a5f9b9e03d52354d475ea",
          "grade": false,
          "grade_id": "cell-8c5a8fb5ce9456e5",
          "locked": false,
          "schema_version": 3,
          "solution": true,
          "task": false
        },
        "id": "acc9357e"
      },
      "outputs": [],
      "source": [
        "import math\n",
        "def get_unigram_perplexity(corpus, unigram_probs):\n",
        "    \"\"\"\n",
        "    Calculates the perplexity of a unigram language model on a text corpus\n",
        "    \n",
        "    Inputs:\n",
        "        - corpus (str): A python string consisting of a piece of text    \n",
        "        - unigram_probs (dict): A python dictionary with unigrams (words) as keys and \n",
        "                                their probabilities as values\n",
        "    Returns:\n",
        "        - perplexity (float) : Perplexity of unigram model on corpus\n",
        "    \n",
        "    Note 1: You can assume that each word/unigram that appears in the corpus, we have it's probability in `unigram_probs`\n",
        "    Note 2: Use log to the base 2 for calculating entropy\n",
        "    \"\"\"\n",
        "    \n",
        "    perplexity = None\n",
        "    H=0\n",
        "    p=0\n",
        "    # YOUR CODE HERE\n",
        "    for i in corpus.split():\n",
        "      p=unigram_probs.get(i)\n",
        "      H=H+(-1*(p*math.log(p,2)))\n",
        "    #raise NotImplementedError()\n",
        "    perplexity=math.pow(2,H)\n",
        "    return perplexity"
      ]
    },
    {
      "cell_type": "code",
      "execution_count": null,
      "id": "2b4195e8",
      "metadata": {
        "deletable": false,
        "editable": false,
        "nbgrader": {
          "cell_type": "code",
          "checksum": "f004b8bc9e92500099a95d92a47b177e",
          "grade": true,
          "grade_id": "cell-407824efd9e6de69",
          "locked": true,
          "points": 0.5,
          "schema_version": 3,
          "solution": false,
          "task": false
        },
        "colab": {
          "base_uri": "https://localhost:8080/"
        },
        "id": "2b4195e8",
        "outputId": "decb6361-888f-4e55-bba0-5ded43620ead"
      },
      "outputs": [
        {
          "output_type": "stream",
          "name": "stdout",
          "text": [
            "Training Data Perplexity: 66.87292185710841\n",
            "Expected Training Data Perplexity: 66.87292185710841\n",
            "**********************************\n",
            "\n",
            "Validation Data Perplexity: 73.3487215828769\n",
            "Expected Validation Data Perplexity: 73.3487215828768\n",
            "**********************************\n",
            "\n",
            "Test Data Perplexity: 54.976012600637404\n",
            "Expected Test Data Perplexity: 54.97601260063733\n",
            "**********************************\n",
            "\n"
          ]
        }
      ],
      "source": [
        "# Perplexity for simple models like unigram can blow up easily for large corpora.\n",
        "# And Hence we only evaluate on the first 100 tokens of each data split \n",
        "wiki_train_subsample = \" \".join(wiki_train.split()[:100])\n",
        "wiki_valid_subsample = \" \".join(wiki_valid.split()[:100])\n",
        "wiki_test_subsample = \" \".join(wiki_test.split()[:100])\n",
        "#print(wiki_train_subsample)\n",
        "\n",
        "train_ppl = get_unigram_perplexity(wiki_train_subsample, train_unigram_probs)\n",
        "expected_train_ppl = 66.87292185710841\n",
        "print(f\"Training Data Perplexity: {train_ppl}\")\n",
        "print(f\"Expected Training Data Perplexity: {expected_train_ppl}\")\n",
        "assert np.allclose(train_ppl, expected_train_ppl, 1e-4)\n",
        "\n",
        "print(\"**********************************\\n\")\n",
        "\n",
        "valid_ppl = get_unigram_perplexity(wiki_valid_subsample, train_unigram_probs)\n",
        "expected_valid_ppl = 73.3487215828768\n",
        "print(f\"Validation Data Perplexity: {valid_ppl}\")\n",
        "print(f\"Expected Validation Data Perplexity: {expected_valid_ppl}\")\n",
        "assert np.allclose(valid_ppl, expected_valid_ppl, 1e-4)\n",
        "\n",
        "print(\"**********************************\\n\")\n",
        "\n",
        "test_ppl = get_unigram_perplexity(wiki_test_subsample, train_unigram_probs)\n",
        "expected_test_ppl = 54.97601260063733\n",
        "print(f\"Test Data Perplexity: {test_ppl}\")\n",
        "print(f\"Expected Test Data Perplexity: {expected_test_ppl}\")\n",
        "assert np.allclose(test_ppl, expected_test_ppl, 1e-4)\n",
        "\n",
        "print(\"**********************************\\n\")\n"
      ]
    },
    {
      "cell_type": "markdown",
      "id": "2c4cae66",
      "metadata": {
        "deletable": false,
        "editable": false,
        "nbgrader": {
          "cell_type": "markdown",
          "checksum": "1a9084fc0d8d2a51d22fc242304f1615",
          "grade": false,
          "grade_id": "cell-4e9803311447c8f3",
          "locked": true,
          "schema_version": 3,
          "solution": false,
          "task": false
        },
        "id": "2c4cae66"
      },
      "source": [
        "### Task 2.2: Generating texts using N-gram LMs (2.5 Marks)\n",
        "\n",
        "Using the estimated N-gram probabilities we can use the N-gram language models to generate pieces of text. We start with N-1 tokens and then use them as context to predict the next token form our estimated distribution. This process is then done repeatedly till we reach the maximum specified length. Implement the `generate_text_unigram` and `generate_text_ngram` functions below"
      ]
    },
    {
      "cell_type": "code",
      "execution_count": null,
      "id": "5ee69aa8",
      "metadata": {
        "deletable": false,
        "nbgrader": {
          "cell_type": "code",
          "checksum": "ccefeddf59d10947634e2b831aa966cb",
          "grade": true,
          "grade_id": "cell-d0ca4be3123b8357",
          "locked": false,
          "points": 1,
          "schema_version": 3,
          "solution": true,
          "task": false
        },
        "id": "5ee69aa8"
      },
      "outputs": [],
      "source": [
        "import random\n",
        "import numpy as np\n",
        "def generate_text_unigram(unigram_probs, max_len = 10):\n",
        "    \"\"\"\n",
        "    Generates a random piece of text by sampling from `unigram_probs`\n",
        "    \n",
        "    Inputs:\n",
        "        - unigram_probs (dict): A dictionary containing probabilities of each unigram in the dataset.\n",
        "        - max_len (int) : Maximum length of the sequence (in terms of number of words/tokens) to be generated\n",
        "        \n",
        "    Returns:\n",
        "        - gen_text (str) : Text sampled from the unigram model\n",
        "        \n",
        "    Hint: np.random.choice might come in handy (pay special attention to what to supply as the value of its argument `p`)\n",
        "    \"\"\"\n",
        "    \n",
        "    gen_text = None\n",
        "    words=list(unigram_probs.keys())\n",
        "    #print(words)\n",
        "    gen_text=np.random.choice(words,10,p=list(unigram_probs.values()))\n",
        "    # YOUR CODE HERE\n",
        "    #print(gen_text)\n",
        "\n",
        "    \n",
        "    \n",
        "\n",
        "\n",
        "    #raise NotImplementedError()\n",
        "    \n",
        "    return \" \".join(gen_text)"
      ]
    },
    {
      "cell_type": "code",
      "execution_count": null,
      "id": "bcf5493e",
      "metadata": {
        "deletable": false,
        "editable": false,
        "nbgrader": {
          "cell_type": "code",
          "checksum": "63850a95c68f862ca2694bee2e1a7a3a",
          "grade": true,
          "grade_id": "cell-034597726f1551be",
          "locked": true,
          "points": 0,
          "schema_version": 3,
          "solution": false,
          "task": false
        },
        "colab": {
          "base_uri": "https://localhost:8080/"
        },
        "id": "bcf5493e",
        "outputId": "42e2f689-4aad-4930-e94e-dc5d7bc962b0"
      },
      "outputs": [
        {
          "output_type": "stream",
          "name": "stdout",
          "text": [
            "Generated Text: The sustainable 2013 located of of , teeth became International\n",
            "Expected Text: The sustainable 2013 located of of , teeth became International\n"
          ]
        }
      ],
      "source": [
        "np.random.seed(42)\n",
        "gen_text = generate_text_unigram(train_unigram_probs, 10)\n",
        "expected_text = 'The sustainable 2013 located of of , teeth became International'\n",
        "print(f\"Generated Text: {gen_text}\")\n",
        "print(f\"Expected Text: {expected_text}\")\n",
        "assert gen_text == expected_text\n"
      ]
    },
    {
      "cell_type": "code",
      "source": [
        "print(bigram_prob_dist.get(('resulting',)))"
      ],
      "metadata": {
        "colab": {
          "base_uri": "https://localhost:8080/"
        },
        "id": "FH95FKAmTzYE",
        "outputId": "ffc41e22-24af-4386-86c4-0a64a5f24579"
      },
      "id": "FH95FKAmTzYE",
      "execution_count": null,
      "outputs": [
        {
          "output_type": "stream",
          "name": "stdout",
          "text": [
            "defaultdict(<function get_ngram_cond_probs.<locals>.<lambda>.<locals>.<lambda> at 0x7f619071ae60>, {'in': 0.562962962962963, 'savings': 0.007407407407407408, 'culture': 0.007407407407407408, 'from': 0.08888888888888889, 'film': 0.014814814814814815, 'loss': 0.007407407407407408, 'social': 0.007407407407407408, 'satire': 0.007407407407407408, 'oil': 0.007407407407407408, 'mixture': 0.007407407407407408, 'cricket': 0.007407407407407408, 'court': 0.007407407407407408, 'unit': 0.007407407407407408, 'sets': 0.007407407407407408, 'warfare': 0.007407407407407408, 'calculation': 0.007407407407407408, 'regime': 0.007407407407407408, 'highway': 0.007407407407407408, 'lawsuit': 0.007407407407407408, 'spin': 0.007407407407407408, 'if': 0.007407407407407408, '<unk>': 0.007407407407407408, 'Colorado': 0.007407407407407408, 'stresses': 0.007407407407407408, 'scuttling': 0.007407407407407408, 'magazine': 0.007407407407407408, 'album': 0.007407407407407408, 'fire': 0.007407407407407408, 'flood': 0.007407407407407408, 'elections': 0.007407407407407408, 'parliament': 0.007407407407407408, 'wines': 0.007407407407407408, 'disruption': 0.007407407407407408, 'ordering': 0.007407407407407408, 'orientation': 0.007407407407407408, 'criticism': 0.007407407407407408, 'song': 0.007407407407407408, 'arrangement': 0.007407407407407408, 'increase': 0.007407407407407408, 'income': 0.007407407407407408, 'animation': 0.007407407407407408, 'March': 0.007407407407407408, 'changes': 0.007407407407407408, 'warning': 0.007407407407407408, ',': 0.007407407407407408, 'concentrate': 0.007407407407407408, 'conflict': 0.007407407407407408, 'temperature': 0.007407407407407408})\n"
          ]
        }
      ]
    },
    {
      "cell_type": "code",
      "execution_count": null,
      "id": "559a34dc",
      "metadata": {
        "deletable": false,
        "nbgrader": {
          "cell_type": "code",
          "checksum": "deac46a1f988c797d818646a0fa1aa0c",
          "grade": true,
          "grade_id": "cell-95b05dc181f536f0",
          "locked": false,
          "points": 1.5,
          "schema_version": 3,
          "solution": true,
          "task": false
        },
        "id": "559a34dc"
      },
      "outputs": [],
      "source": [
        "def generate_text_ngram(ngram_probs, seed_text, max_len = 10):\n",
        "    \"\"\"\n",
        "    Generates a random piece of text by sampling from `ngram_probs`\n",
        "    \n",
        "    Inputs:\n",
        "        - ngram_probs (dict): A dictionary containing containing conditional probabilities for each N-gram in the dataset.\n",
        "        - seed_text (str): A string containing N-1 tokens to use for starting the generated sequence\n",
        "        - max_len (int) : Maximum length of the sequence (in terms of number of words/tokens) to be generated\n",
        "        \n",
        "    Returns:\n",
        "        - gen_text (str) : Text sampled from the ngram model\n",
        "        \n",
        "    Hint: np.random.choice might come in handy (pay special attention to what to supply as the value of its argument `p`)\n",
        "    \n",
        "    Examples:\n",
        "        - Let's say we want to generate text from a bigram model (N = 2). The seed text will always have N-1 tokens i.e.\n",
        "            in this case 1. For the case where seed_text is \"The\", you look up at all bigrams starting with \"The\" in `ngram_probs`.\n",
        "            let's say the sampled word is \"brown\", so next you look at all the bigrams starting with \"brown\" and sample the\n",
        "            next word and repeat the procedure.\n",
        "        - For a trigram model and seed_text \"The brown\", you will similarly start by looking at the trigrams strating with\n",
        "            \"The brown\", sample next word. let's say it is \"fox\", then you look for all the trigrams starting\n",
        "            with \"brown fox\" and sample the next word and so on.\n",
        "    \"\"\"\n",
        "    \n",
        "    gen_text = []\n",
        "    seed=seed_text.split()\n",
        "    gen_text=seed\n",
        "    #print(seed)\n",
        "    l1=len(seed)\n",
        "    while len(gen_text)<(max_len+l1):\n",
        "      seed_text=gen_text[-l1:]\n",
        "      words=ngram_probs.get(tuple(seed_text))\n",
        "      #print(words)\n",
        "      gen_text.append((np.random.choice(list(words.keys()),p=list(words.values()))))\n",
        "      \n",
        "      #print(gen_text)\n",
        "      #print(seed_text)\n",
        "    # YOUR CODE HERE\n",
        "\n",
        "    #raise NotImplementedError()\n",
        "    \n",
        "    return \" \".join(gen_text)"
      ]
    },
    {
      "cell_type": "code",
      "source": [
        ""
      ],
      "metadata": {
        "id": "Lkz0Qc8tXDpz"
      },
      "id": "Lkz0Qc8tXDpz",
      "execution_count": null,
      "outputs": []
    },
    {
      "cell_type": "code",
      "execution_count": null,
      "id": "682ff372",
      "metadata": {
        "deletable": false,
        "editable": false,
        "nbgrader": {
          "cell_type": "code",
          "checksum": "55ce2c67f03b4d6b519d89a574cf85dd",
          "grade": true,
          "grade_id": "cell-a1b6099f4b708794",
          "locked": true,
          "points": 0,
          "schema_version": 3,
          "solution": false,
          "task": false
        },
        "id": "682ff372",
        "colab": {
          "base_uri": "https://localhost:8080/"
        },
        "outputId": "119d2b4f-7e24-49c2-bb95-7cef2484a8e5"
      },
      "outputs": [
        {
          "output_type": "stream",
          "name": "stdout",
          "text": [
            "Generated Text: The resulting March 1944 . The song , piano at Victoria . Relay events of the United States , was an\n",
            "Expected Text: The resulting March 1944 . The song , piano at Victoria . Relay events of the United States , was an\n"
          ]
        }
      ],
      "source": [
        "np.random.seed(42)\n",
        "gen_text = generate_text_ngram(bigram_prob_dist, \"The\", max_len= 20)\n",
        "expected_text = \"The resulting March 1944 . The song , piano at Victoria . Relay events of the United States , was an\"\n",
        "print(f\"Generated Text: {gen_text}\")\n",
        "print(f\"Expected Text: {expected_text}\")\n",
        "assert gen_text == expected_text"
      ]
    },
    {
      "cell_type": "code",
      "execution_count": null,
      "id": "9bd86b87",
      "metadata": {
        "deletable": false,
        "editable": false,
        "nbgrader": {
          "cell_type": "code",
          "checksum": "82a1584a9b693e723d1f24a91cbdc421",
          "grade": true,
          "grade_id": "cell-e72b515cef45a4bf",
          "locked": true,
          "points": 0,
          "schema_version": 3,
          "solution": false,
          "task": false
        },
        "id": "9bd86b87",
        "colab": {
          "base_uri": "https://localhost:8080/"
        },
        "outputId": "5480f6d6-b09c-46e4-eab7-92229c69f21a"
      },
      "outputs": [
        {
          "output_type": "stream",
          "name": "stdout",
          "text": [
            "Generated Text: The resulting scuttling of the strongest aftershock since the <unk> Room . \" Mosley 's 1968 restoration . The bridge was written\n",
            "Expected Text: The resulting scuttling of the strongest aftershock since the <unk> Room . \" Mosley 's 1968 restoration . The bridge was written\n"
          ]
        }
      ],
      "source": [
        "np.random.seed(42)\n",
        "gen_text = generate_text_ngram(trigram_prob_dist, \"The resulting\", max_len= 20)\n",
        "expected_text = 'The resulting scuttling of the strongest aftershock since the <unk> Room . \" Mosley \\'s 1968 restoration . The bridge was written'\n",
        "print(f\"Generated Text: {gen_text}\")\n",
        "print(f\"Expected Text: {expected_text}\")\n",
        "assert gen_text == expected_text"
      ]
    },
    {
      "cell_type": "code",
      "execution_count": null,
      "id": "17b88c4d",
      "metadata": {
        "deletable": false,
        "editable": false,
        "nbgrader": {
          "cell_type": "code",
          "checksum": "5a01cd8e950ba4cd12bb44d9932f2dbb",
          "grade": true,
          "grade_id": "cell-db6356c48fddf694",
          "locked": true,
          "points": 0,
          "schema_version": 3,
          "solution": false,
          "task": false
        },
        "id": "17b88c4d",
        "colab": {
          "base_uri": "https://localhost:8080/"
        },
        "outputId": "8a812c1f-4c9a-4eb1-ac18-20347ed6bcac"
      },
      "outputs": [
        {
          "output_type": "stream",
          "name": "stdout",
          "text": [
            "Generated Text: = = = = Liu Kang was designed to produce . By the end of April . The months that receive the most\n",
            "Expected Text: = = = = Liu Kang was designed to produce . By the end of April . The months that receive the most\n"
          ]
        }
      ],
      "source": [
        "np.random.seed(42)\n",
        "gen_text = generate_text_ngram(tetragram_prob_dist, \"= = =\", max_len= 20)\n",
        "expected_text = '= = = = Liu Kang was designed to produce . By the end of April . The months that receive the most'\n",
        "print(f\"Generated Text: {gen_text}\")\n",
        "print(f\"Expected Text: {expected_text}\")\n",
        "assert gen_text == expected_text"
      ]
    }
  ],
  "metadata": {
    "kernelspec": {
      "display_name": "Python 3 (ipykernel)",
      "language": "python",
      "name": "python3"
    },
    "language_info": {
      "codemirror_mode": {
        "name": "ipython",
        "version": 3
      },
      "file_extension": ".py",
      "mimetype": "text/x-python",
      "name": "python",
      "nbconvert_exporter": "python",
      "pygments_lexer": "ipython3",
      "version": "3.9.7"
    },
    "colab": {
      "name": "Assignment2a.ipynb",
      "provenance": [],
      "collapsed_sections": []
    },
    "accelerator": "GPU"
  },
  "nbformat": 4,
  "nbformat_minor": 5
}